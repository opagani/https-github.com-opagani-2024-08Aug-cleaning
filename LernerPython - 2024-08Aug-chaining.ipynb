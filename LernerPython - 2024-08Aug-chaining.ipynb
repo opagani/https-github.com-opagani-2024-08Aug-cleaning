{
 "cells": [
  {
   "cell_type": "markdown",
   "metadata": {},
   "source": [
    "# Agenda: Method chaining\n",
    "\n",
    "1. The theory and basics of method chaining\n",
    "2. Breaking things apart\n",
    "3. Selecting columns with `[]`\n",
    "4. Selecting rows with `.loc`\n",
    "5. Using `lambda` with `.loc`\n",
    "6. Using `assign`\n",
    "7. Using `assign` with `lambda`\n",
    "8. Using `pipe`"
   ]
  },
  {
   "cell_type": "markdown",
   "metadata": {},
   "source": [
    "# Method chaining \n",
    "\n",
    "Method chaining is a new idea, not in Python and not in other languages. The idea is that if you have an object, and invoke a method on it, you get back an object, and can thus run another method on it."
   ]
  },
  {
   "cell_type": "code",
   "execution_count": 6,
   "metadata": {},
   "outputs": [],
   "source": [
    "import numpy as np\n",
    "import pandas as pd\n",
    "from pandas import Series, DataFrame"
   ]
  },
  {
   "cell_type": "code",
   "execution_count": 1,
   "metadata": {},
   "outputs": [
    {
     "data": {
      "text/plain": [
       "'ABCD EFGH'"
      ]
     },
     "execution_count": 1,
     "metadata": {},
     "output_type": "execute_result"
    }
   ],
   "source": [
    "s = 'abcd efgh'\n",
    "s.upper()"
   ]
  },
  {
   "cell_type": "code",
   "execution_count": 2,
   "metadata": {},
   "outputs": [
    {
     "data": {
      "text/plain": [
       "['ABCD', 'EFGH']"
      ]
     },
     "execution_count": 2,
     "metadata": {},
     "output_type": "execute_result"
    }
   ],
   "source": [
    "s.upper().split()  # this is method chaining!"
   ]
  },
  {
   "cell_type": "code",
   "execution_count": 3,
   "metadata": {},
   "outputs": [
    {
     "data": {
      "text/plain": [
       "[10, 20, 30, 40]"
      ]
     },
     "execution_count": 3,
     "metadata": {},
     "output_type": "execute_result"
    }
   ],
   "source": [
    "# this doesn't always work in Python -- whenever we invoke a method on a mutable object\n",
    "# that then modifies the object, we get back None, and the object is changed.\n",
    "\n",
    "mylist = [10, 20, 30]\n",
    "mylist.append(40)  # invoking append modified the list; we didn't need to assign it back to mylist!\n",
    "\n",
    "mylist"
   ]
  },
  {
   "cell_type": "code",
   "execution_count": 4,
   "metadata": {},
   "outputs": [
    {
     "ename": "AttributeError",
     "evalue": "'NoneType' object has no attribute 'count'",
     "output_type": "error",
     "traceback": [
      "\u001b[0;31m---------------------------------------------------------------------------\u001b[0m",
      "\u001b[0;31mAttributeError\u001b[0m                            Traceback (most recent call last)",
      "Cell \u001b[0;32mIn[4], line 1\u001b[0m\n\u001b[0;32m----> 1\u001b[0m \u001b[43mmylist\u001b[49m\u001b[38;5;241;43m.\u001b[39;49m\u001b[43mappend\u001b[49m\u001b[43m(\u001b[49m\u001b[38;5;241;43m40\u001b[39;49m\u001b[43m)\u001b[49m\u001b[38;5;241;43m.\u001b[39;49m\u001b[43mcount\u001b[49m(\u001b[38;5;241m10\u001b[39m)\n",
      "\u001b[0;31mAttributeError\u001b[0m: 'NoneType' object has no attribute 'count'"
     ]
    }
   ],
   "source": [
    "mylist.append(40).count(10)"
   ]
  },
  {
   "cell_type": "code",
   "execution_count": 5,
   "metadata": {},
   "outputs": [
    {
     "data": {
      "text/plain": [
       "[10, 20, 30, 40, 40]"
      ]
     },
     "execution_count": 5,
     "metadata": {},
     "output_type": "execute_result"
    }
   ],
   "source": [
    "mylist"
   ]
  },
  {
   "cell_type": "code",
   "execution_count": 9,
   "metadata": {},
   "outputs": [],
   "source": [
    "# in Pandas, so long as we don't assign to a series/data frame, and so long as we don't use inplace=True,\n",
    "# we will basically always get back an object on which we can run a method.\n",
    "\n",
    "# but there is an issue, at least in terms of how it looks\n",
    "\n",
    "s = Series('this is a bunch of strings'.split())"
   ]
  },
  {
   "cell_type": "code",
   "execution_count": 13,
   "metadata": {},
   "outputs": [
    {
     "data": {
      "text/plain": [
       "0       this\n",
       "3      bunch\n",
       "5    strings\n",
       "dtype: object"
      ]
     },
     "execution_count": 13,
     "metadata": {},
     "output_type": "execute_result"
    }
   ],
   "source": [
    "# let's find all of the strings that have > 3 characters\n",
    "\n",
    "s.loc[s.str.len() > 3]"
   ]
  },
  {
   "cell_type": "code",
   "execution_count": 16,
   "metadata": {},
   "outputs": [
    {
     "data": {
      "text/html": [
       "<div>\n",
       "<style scoped>\n",
       "    .dataframe tbody tr th:only-of-type {\n",
       "        vertical-align: middle;\n",
       "    }\n",
       "\n",
       "    .dataframe tbody tr th {\n",
       "        vertical-align: top;\n",
       "    }\n",
       "\n",
       "    .dataframe thead th {\n",
       "        text-align: right;\n",
       "    }\n",
       "</style>\n",
       "<table border=\"1\" class=\"dataframe\">\n",
       "  <thead>\n",
       "    <tr style=\"text-align: right;\">\n",
       "      <th></th>\n",
       "      <th>words</th>\n",
       "      <th>len</th>\n",
       "    </tr>\n",
       "  </thead>\n",
       "  <tbody>\n",
       "    <tr>\n",
       "      <th>0</th>\n",
       "      <td>this</td>\n",
       "      <td>4</td>\n",
       "    </tr>\n",
       "    <tr>\n",
       "      <th>1</th>\n",
       "      <td>is</td>\n",
       "      <td>2</td>\n",
       "    </tr>\n",
       "    <tr>\n",
       "      <th>2</th>\n",
       "      <td>a</td>\n",
       "      <td>1</td>\n",
       "    </tr>\n",
       "    <tr>\n",
       "      <th>3</th>\n",
       "      <td>bunch</td>\n",
       "      <td>5</td>\n",
       "    </tr>\n",
       "    <tr>\n",
       "      <th>4</th>\n",
       "      <td>of</td>\n",
       "      <td>2</td>\n",
       "    </tr>\n",
       "    <tr>\n",
       "      <th>5</th>\n",
       "      <td>strings</td>\n",
       "      <td>7</td>\n",
       "    </tr>\n",
       "  </tbody>\n",
       "</table>\n",
       "</div>"
      ],
      "text/plain": [
       "     words  len\n",
       "0     this    4\n",
       "1       is    2\n",
       "2        a    1\n",
       "3    bunch    5\n",
       "4       of    2\n",
       "5  strings    7"
      ]
     },
     "execution_count": 16,
     "metadata": {},
     "output_type": "execute_result"
    }
   ],
   "source": [
    "df = DataFrame({'words':s, 'len':s.str.len()})\n",
    "df"
   ]
  },
  {
   "cell_type": "code",
   "execution_count": 18,
   "metadata": {},
   "outputs": [
    {
     "data": {
      "text/plain": [
       "0    T\n",
       "1    I\n",
       "2    A\n",
       "3    B\n",
       "4    O\n",
       "5    S\n",
       "Name: words, dtype: object"
      ]
     },
     "execution_count": 18,
     "metadata": {},
     "output_type": "execute_result"
    }
   ],
   "source": [
    "# get the first upper-cased character of each string\n",
    "\n",
    "df['words'].str.get(0).str.upper()"
   ]
  },
  {
   "cell_type": "code",
   "execution_count": 19,
   "metadata": {},
   "outputs": [
    {
     "ename": "SyntaxError",
     "evalue": "invalid syntax (182028290.py, line 4)",
     "output_type": "error",
     "traceback": [
      "\u001b[0;36m  Cell \u001b[0;32mIn[19], line 4\u001b[0;36m\u001b[0m\n\u001b[0;31m    .str.get(0)\u001b[0m\n\u001b[0m    ^\u001b[0m\n\u001b[0;31mSyntaxError\u001b[0m\u001b[0;31m:\u001b[0m invalid syntax\n"
     ]
    }
   ],
   "source": [
    "# let's try not to do this on a single line\n",
    "\n",
    "df['words']\n",
    ".str.get(0)\n",
    ".str.upper()"
   ]
  },
  {
   "cell_type": "markdown",
   "metadata": {},
   "source": [
    "# The solution: ()\n",
    "\n",
    "Python assumes that if you have open parentheses, then you're on the same line, even if there are newlines in your code.\n",
    "\n",
    "What if we open parentheses not because we need them, but because they'll allow us to use multiple lines?"
   ]
  },
  {
   "cell_type": "code",
   "execution_count": 20,
   "metadata": {},
   "outputs": [
    {
     "data": {
      "text/plain": [
       "0    T\n",
       "1    I\n",
       "2    A\n",
       "3    B\n",
       "4    O\n",
       "5    S\n",
       "Name: words, dtype: object"
      ]
     },
     "execution_count": 20,
     "metadata": {},
     "output_type": "execute_result"
    }
   ],
   "source": [
    "(\n",
    "    df['words']\n",
    "    .str.get(0)\n",
    "    .str.upper()\n",
    ")"
   ]
  },
  {
   "cell_type": "code",
   "execution_count": 21,
   "metadata": {},
   "outputs": [
    {
     "data": {
      "text/html": [
       "<div>\n",
       "<style scoped>\n",
       "    .dataframe tbody tr th:only-of-type {\n",
       "        vertical-align: middle;\n",
       "    }\n",
       "\n",
       "    .dataframe tbody tr th {\n",
       "        vertical-align: top;\n",
       "    }\n",
       "\n",
       "    .dataframe thead th {\n",
       "        text-align: right;\n",
       "    }\n",
       "</style>\n",
       "<table border=\"1\" class=\"dataframe\">\n",
       "  <thead>\n",
       "    <tr style=\"text-align: right;\">\n",
       "      <th></th>\n",
       "      <th>x</th>\n",
       "      <th>y</th>\n",
       "      <th>z</th>\n",
       "    </tr>\n",
       "  </thead>\n",
       "  <tbody>\n",
       "    <tr>\n",
       "      <th>a</th>\n",
       "      <td>-316</td>\n",
       "      <td>-441</td>\n",
       "      <td>653</td>\n",
       "    </tr>\n",
       "    <tr>\n",
       "      <th>b</th>\n",
       "      <td>216</td>\n",
       "      <td>-165</td>\n",
       "      <td>-237</td>\n",
       "    </tr>\n",
       "    <tr>\n",
       "      <th>c</th>\n",
       "      <td>731</td>\n",
       "      <td>383</td>\n",
       "      <td>33</td>\n",
       "    </tr>\n",
       "    <tr>\n",
       "      <th>d</th>\n",
       "      <td>747</td>\n",
       "      <td>-723</td>\n",
       "      <td>778</td>\n",
       "    </tr>\n",
       "  </tbody>\n",
       "</table>\n",
       "</div>"
      ],
      "text/plain": [
       "     x    y    z\n",
       "a -316 -441  653\n",
       "b  216 -165 -237\n",
       "c  731  383   33\n",
       "d  747 -723  778"
      ]
     },
     "execution_count": 21,
     "metadata": {},
     "output_type": "execute_result"
    }
   ],
   "source": [
    "np.random.seed(0)\n",
    "df = DataFrame(np.random.randint(-1000, 1000, [4, 3]),\n",
    "               index=list('abcd'),\n",
    "               columns=list('xyz'))\n",
    "df"
   ]
  },
  {
   "cell_type": "code",
   "execution_count": 22,
   "metadata": {},
   "outputs": [
    {
     "data": {
      "text/html": [
       "<div>\n",
       "<style scoped>\n",
       "    .dataframe tbody tr th:only-of-type {\n",
       "        vertical-align: middle;\n",
       "    }\n",
       "\n",
       "    .dataframe tbody tr th {\n",
       "        vertical-align: top;\n",
       "    }\n",
       "\n",
       "    .dataframe thead th {\n",
       "        text-align: right;\n",
       "    }\n",
       "</style>\n",
       "<table border=\"1\" class=\"dataframe\">\n",
       "  <thead>\n",
       "    <tr style=\"text-align: right;\">\n",
       "      <th></th>\n",
       "      <th>x</th>\n",
       "      <th>z</th>\n",
       "    </tr>\n",
       "  </thead>\n",
       "  <tbody>\n",
       "    <tr>\n",
       "      <th>a</th>\n",
       "      <td>-316</td>\n",
       "      <td>653</td>\n",
       "    </tr>\n",
       "    <tr>\n",
       "      <th>b</th>\n",
       "      <td>216</td>\n",
       "      <td>-237</td>\n",
       "    </tr>\n",
       "    <tr>\n",
       "      <th>c</th>\n",
       "      <td>731</td>\n",
       "      <td>33</td>\n",
       "    </tr>\n",
       "    <tr>\n",
       "      <th>d</th>\n",
       "      <td>747</td>\n",
       "      <td>778</td>\n",
       "    </tr>\n",
       "  </tbody>\n",
       "</table>\n",
       "</div>"
      ],
      "text/plain": [
       "     x    z\n",
       "a -316  653\n",
       "b  216 -237\n",
       "c  731   33\n",
       "d  747  778"
      ]
     },
     "execution_count": 22,
     "metadata": {},
     "output_type": "execute_result"
    }
   ],
   "source": [
    "# I only want columns x and z\n",
    "\n",
    "df[    ['x', 'z']    ]"
   ]
  },
  {
   "cell_type": "code",
   "execution_count": 24,
   "metadata": {},
   "outputs": [
    {
     "data": {
      "text/html": [
       "<div>\n",
       "<style scoped>\n",
       "    .dataframe tbody tr th:only-of-type {\n",
       "        vertical-align: middle;\n",
       "    }\n",
       "\n",
       "    .dataframe tbody tr th {\n",
       "        vertical-align: top;\n",
       "    }\n",
       "\n",
       "    .dataframe thead th {\n",
       "        text-align: right;\n",
       "    }\n",
       "</style>\n",
       "<table border=\"1\" class=\"dataframe\">\n",
       "  <thead>\n",
       "    <tr style=\"text-align: right;\">\n",
       "      <th></th>\n",
       "      <th>x</th>\n",
       "      <th>z</th>\n",
       "    </tr>\n",
       "  </thead>\n",
       "  <tbody>\n",
       "    <tr>\n",
       "      <th>a</th>\n",
       "      <td>-316</td>\n",
       "      <td>653</td>\n",
       "    </tr>\n",
       "    <tr>\n",
       "      <th>b</th>\n",
       "      <td>216</td>\n",
       "      <td>-237</td>\n",
       "    </tr>\n",
       "    <tr>\n",
       "      <th>c</th>\n",
       "      <td>731</td>\n",
       "      <td>33</td>\n",
       "    </tr>\n",
       "    <tr>\n",
       "      <th>d</th>\n",
       "      <td>747</td>\n",
       "      <td>778</td>\n",
       "    </tr>\n",
       "  </tbody>\n",
       "</table>\n",
       "</div>"
      ],
      "text/plain": [
       "     x    z\n",
       "a -316  653\n",
       "b  216 -237\n",
       "c  731   33\n",
       "d  747  778"
      ]
     },
     "execution_count": 24,
     "metadata": {},
     "output_type": "execute_result"
    }
   ],
   "source": [
    "# using method chaining, we can also ask for specific columns\n",
    "\n",
    "(\n",
    "    df\n",
    "    [['x', 'z']]\n",
    ")"
   ]
  },
  {
   "cell_type": "code",
   "execution_count": 25,
   "metadata": {},
   "outputs": [
    {
     "data": {
      "text/html": [
       "<div>\n",
       "<style scoped>\n",
       "    .dataframe tbody tr th:only-of-type {\n",
       "        vertical-align: middle;\n",
       "    }\n",
       "\n",
       "    .dataframe tbody tr th {\n",
       "        vertical-align: top;\n",
       "    }\n",
       "\n",
       "    .dataframe thead th {\n",
       "        text-align: right;\n",
       "    }\n",
       "</style>\n",
       "<table border=\"1\" class=\"dataframe\">\n",
       "  <thead>\n",
       "    <tr style=\"text-align: right;\">\n",
       "      <th></th>\n",
       "      <th>x</th>\n",
       "      <th>z</th>\n",
       "    </tr>\n",
       "  </thead>\n",
       "  <tbody>\n",
       "    <tr>\n",
       "      <th>b</th>\n",
       "      <td>216</td>\n",
       "      <td>-237</td>\n",
       "    </tr>\n",
       "    <tr>\n",
       "      <th>d</th>\n",
       "      <td>747</td>\n",
       "      <td>778</td>\n",
       "    </tr>\n",
       "  </tbody>\n",
       "</table>\n",
       "</div>"
      ],
      "text/plain": [
       "     x    z\n",
       "b  216 -237\n",
       "d  747  778"
      ]
     },
     "execution_count": 25,
     "metadata": {},
     "output_type": "execute_result"
    }
   ],
   "source": [
    "# what if I want only rows b and d?\n",
    "# we can use the .loc accessor to retrieve those, in a similar way\n",
    "\n",
    "(\n",
    "    df\n",
    "    [['x', 'z']]\n",
    "    .loc[['b', 'd']]\n",
    ")"
   ]
  },
  {
   "cell_type": "code",
   "execution_count": 26,
   "metadata": {},
   "outputs": [
    {
     "data": {
      "text/plain": [
       "x    481.5\n",
       "z    270.5\n",
       "dtype: float64"
      ]
     },
     "execution_count": 26,
     "metadata": {},
     "output_type": "execute_result"
    }
   ],
   "source": [
    "# I want the mean of columns x and z, and rows b and d\n",
    "\n",
    "(\n",
    "    df\n",
    "    [['x', 'z']]\n",
    "    .loc[['b', 'd']]\n",
    "    .mean()\n",
    ")"
   ]
  },
  {
   "cell_type": "code",
   "execution_count": 27,
   "metadata": {},
   "outputs": [
    {
     "data": {
      "text/plain": [
       "x    481.5\n",
       "z    270.5\n",
       "dtype: float64"
      ]
     },
     "execution_count": 27,
     "metadata": {},
     "output_type": "execute_result"
    }
   ],
   "source": [
    "# by the way, we really could have done this with a single call to .loc for the rows + columns\n",
    "# .loc can take two arguments - the row selector and the column selector\n",
    "\n",
    "(\n",
    "    df\n",
    "    .loc[\n",
    "        ['b', 'd']   # row selector, we only want rows b+d\n",
    "        ,\n",
    "        ['x', 'z']   # column selector, we only want columns x + z\n",
    "    ]\n",
    "    .mean()\n",
    ")"
   ]
  },
  {
   "cell_type": "code",
   "execution_count": 30,
   "metadata": {},
   "outputs": [
    {
     "data": {
      "text/html": [
       "<div>\n",
       "<style scoped>\n",
       "    .dataframe tbody tr th:only-of-type {\n",
       "        vertical-align: middle;\n",
       "    }\n",
       "\n",
       "    .dataframe tbody tr th {\n",
       "        vertical-align: top;\n",
       "    }\n",
       "\n",
       "    .dataframe thead th {\n",
       "        text-align: right;\n",
       "    }\n",
       "</style>\n",
       "<table border=\"1\" class=\"dataframe\">\n",
       "  <thead>\n",
       "    <tr style=\"text-align: right;\">\n",
       "      <th></th>\n",
       "      <th>x</th>\n",
       "      <th>y</th>\n",
       "      <th>z</th>\n",
       "    </tr>\n",
       "  </thead>\n",
       "  <tbody>\n",
       "    <tr>\n",
       "      <th>b</th>\n",
       "      <td>216</td>\n",
       "      <td>-165</td>\n",
       "      <td>-237</td>\n",
       "    </tr>\n",
       "    <tr>\n",
       "      <th>c</th>\n",
       "      <td>731</td>\n",
       "      <td>383</td>\n",
       "      <td>33</td>\n",
       "    </tr>\n",
       "    <tr>\n",
       "      <th>d</th>\n",
       "      <td>747</td>\n",
       "      <td>-723</td>\n",
       "      <td>778</td>\n",
       "    </tr>\n",
       "  </tbody>\n",
       "</table>\n",
       "</div>"
      ],
      "text/plain": [
       "     x    y    z\n",
       "b  216 -165 -237\n",
       "c  731  383   33\n",
       "d  747 -723  778"
      ]
     },
     "execution_count": 30,
     "metadata": {},
     "output_type": "execute_result"
    }
   ],
   "source": [
    "# What if I want columns x and z, but only where the value of x is > 200?\n",
    "\n",
    "# we always use boolean indexes in Pandas to retrieve selected rows\n",
    "df.loc[  df['x'] > 200   ]"
   ]
  },
  {
   "cell_type": "code",
   "execution_count": 32,
   "metadata": {},
   "outputs": [
    {
     "data": {
      "text/html": [
       "<div>\n",
       "<style scoped>\n",
       "    .dataframe tbody tr th:only-of-type {\n",
       "        vertical-align: middle;\n",
       "    }\n",
       "\n",
       "    .dataframe tbody tr th {\n",
       "        vertical-align: top;\n",
       "    }\n",
       "\n",
       "    .dataframe thead th {\n",
       "        text-align: right;\n",
       "    }\n",
       "</style>\n",
       "<table border=\"1\" class=\"dataframe\">\n",
       "  <thead>\n",
       "    <tr style=\"text-align: right;\">\n",
       "      <th></th>\n",
       "      <th>x</th>\n",
       "      <th>z</th>\n",
       "    </tr>\n",
       "  </thead>\n",
       "  <tbody>\n",
       "    <tr>\n",
       "      <th>b</th>\n",
       "      <td>216</td>\n",
       "      <td>-237</td>\n",
       "    </tr>\n",
       "    <tr>\n",
       "      <th>c</th>\n",
       "      <td>731</td>\n",
       "      <td>33</td>\n",
       "    </tr>\n",
       "    <tr>\n",
       "      <th>d</th>\n",
       "      <td>747</td>\n",
       "      <td>778</td>\n",
       "    </tr>\n",
       "  </tbody>\n",
       "</table>\n",
       "</div>"
      ],
      "text/plain": [
       "     x    z\n",
       "b  216 -237\n",
       "c  731   33\n",
       "d  747  778"
      ]
     },
     "execution_count": 32,
     "metadata": {},
     "output_type": "execute_result"
    }
   ],
   "source": [
    "# let's retrieve columns x+z, all rows where x > 200\n",
    "\n",
    "(\n",
    "    df\n",
    "    .loc[\n",
    "        df['x'] > 200   # row selector, we only want where x > 200\n",
    "        ,\n",
    "        ['x', 'z']   # column selector, we only want columns x + z\n",
    "    ]\n",
    "    # .mean()\n",
    ")"
   ]
  },
  {
   "cell_type": "code",
   "execution_count": 34,
   "metadata": {},
   "outputs": [
    {
     "data": {
      "text/plain": [
       "x    473.5\n",
       "z   -102.0\n",
       "dtype: float64"
      ]
     },
     "execution_count": 34,
     "metadata": {},
     "output_type": "execute_result"
    }
   ],
   "source": [
    "# let's retrieve columns x+z, all rows where x > 200 and where z < 200\n",
    "\n",
    "(\n",
    "    df\n",
    "    .loc[\n",
    "        ((df['x'] > 200) & (df['z'] < 200))   # row selector, we only want where x > 200 and z < 200\n",
    "        ,\n",
    "        ['x', 'z']   # column selector, we only want columns x + z\n",
    "    ]\n",
    "    # .mean()\n",
    ")"
   ]
  },
  {
   "cell_type": "code",
   "execution_count": 36,
   "metadata": {},
   "outputs": [
    {
     "data": {
      "text/plain": [
       "'x'"
      ]
     },
     "execution_count": 36,
     "metadata": {},
     "output_type": "execute_result"
    }
   ],
   "source": [
    "# let's retrieve columns x+z, all rows where x > 200 and where z < 200\n",
    "# then calculate the mean, and find the index where the mean is greatest\n",
    "\n",
    "(\n",
    "    df\n",
    "    .loc[\n",
    "        ((df['x'] > 200) & (df['z'] < 200))   # row selector, we only want where x > 200 and z < 200\n",
    "        ,\n",
    "        ['x', 'z']   # column selector, we only want columns x + z\n",
    "    ]\n",
    "    .mean()\n",
    "    .idxmax()  # this returns th!e index of the max value\n",
    ")"
   ]
  },
  {
   "cell_type": "code",
   "execution_count": 37,
   "metadata": {},
   "outputs": [
    {
     "data": {
      "text/plain": [
       "<Axes: >"
      ]
     },
     "execution_count": 37,
     "metadata": {},
     "output_type": "execute_result"
    },
    {
     "data": {
      "image/png": "[encoded data removed]",
      "text/plain": [
       "<Figure size 640x480 with 1 Axes>"
      ]
     },
     "metadata": {},
     "output_type": "display_data"
    }
   ],
   "source": [
    "# let's retrieve columns x+z, all rows where x > 200 and where z < 200\n",
    "# then calculate the mean, and plot them in a bar chart\n",
    "\n",
    "(\n",
    "    df\n",
    "    .loc[\n",
    "        ((df['x'] > 200) & (df['z'] < 200))   # row selector, we only want where x > 200 and z < 200\n",
    "        ,\n",
    "        ['x', 'z']   # column selector, we only want columns x + z\n",
    "    ]\n",
    "    .mean()\n",
    "    .plot.bar()\n",
    ")"
   ]
  },
  {
   "cell_type": "markdown",
   "metadata": {},
   "source": [
    "# Exercise: Taxi info\n",
    "\n",
    "1. Download the NYC taxi data from July 2020, and put it into a data frame.\n",
    "2. Find those rows where `total_amount` is > \\$1000, and the `trip_distance` is less than 10 miles.\n",
    "3. Then, run a `groupby` on `passenger_count`, and create a bar plot showing the number of such trips for each value of `passenger_count`."
   ]
  },
  {
   "cell_type": "code",
   "execution_count": 41,
   "metadata": {},
   "outputs": [
    {
     "data": {
      "text/html": [
       "<div>\n",
       "<style scoped>\n",
       "    .dataframe tbody tr th:only-of-type {\n",
       "        vertical-align: middle;\n",
       "    }\n",
       "\n",
       "    .dataframe tbody tr th {\n",
       "        vertical-align: top;\n",
       "    }\n",
       "\n",
       "    .dataframe thead th {\n",
       "        text-align: right;\n",
       "    }\n",
       "</style>\n",
       "<table border=\"1\" class=\"dataframe\">\n",
       "  <thead>\n",
       "    <tr style=\"text-align: right;\">\n",
       "      <th></th>\n",
       "      <th>passenger_count</th>\n",
       "      <th>trip_distance</th>\n",
       "      <th>total_amount</th>\n",
       "    </tr>\n",
       "  </thead>\n",
       "  <tbody>\n",
       "    <tr>\n",
       "      <th>0</th>\n",
       "      <td>1.0</td>\n",
       "      <td>1.50</td>\n",
       "      <td>9.30</td>\n",
       "    </tr>\n",
       "    <tr>\n",
       "      <th>1</th>\n",
       "      <td>1.0</td>\n",
       "      <td>9.50</td>\n",
       "      <td>27.80</td>\n",
       "    </tr>\n",
       "    <tr>\n",
       "      <th>2</th>\n",
       "      <td>1.0</td>\n",
       "      <td>5.85</td>\n",
       "      <td>22.30</td>\n",
       "    </tr>\n",
       "    <tr>\n",
       "      <th>3</th>\n",
       "      <td>1.0</td>\n",
       "      <td>1.90</td>\n",
       "      <td>14.16</td>\n",
       "    </tr>\n",
       "    <tr>\n",
       "      <th>4</th>\n",
       "      <td>1.0</td>\n",
       "      <td>1.25</td>\n",
       "      <td>7.80</td>\n",
       "    </tr>\n",
       "    <tr>\n",
       "      <th>...</th>\n",
       "      <td>...</td>\n",
       "      <td>...</td>\n",
       "      <td>...</td>\n",
       "    </tr>\n",
       "    <tr>\n",
       "      <th>800407</th>\n",
       "      <td>NaN</td>\n",
       "      <td>24.23</td>\n",
       "      <td>83.50</td>\n",
       "    </tr>\n",
       "    <tr>\n",
       "      <th>800408</th>\n",
       "      <td>NaN</td>\n",
       "      <td>4.40</td>\n",
       "      <td>19.78</td>\n",
       "    </tr>\n",
       "    <tr>\n",
       "      <th>800409</th>\n",
       "      <td>NaN</td>\n",
       "      <td>8.78</td>\n",
       "      <td>38.45</td>\n",
       "    </tr>\n",
       "    <tr>\n",
       "      <th>800410</th>\n",
       "      <td>NaN</td>\n",
       "      <td>6.50</td>\n",
       "      <td>29.77</td>\n",
       "    </tr>\n",
       "    <tr>\n",
       "      <th>800411</th>\n",
       "      <td>NaN</td>\n",
       "      <td>10.88</td>\n",
       "      <td>51.90</td>\n",
       "    </tr>\n",
       "  </tbody>\n",
       "</table>\n",
       "<p>800412 rows × 3 columns</p>\n",
       "</div>"
      ],
      "text/plain": [
       "        passenger_count  trip_distance  total_amount\n",
       "0                   1.0           1.50          9.30\n",
       "1                   1.0           9.50         27.80\n",
       "2                   1.0           5.85         22.30\n",
       "3                   1.0           1.90         14.16\n",
       "4                   1.0           1.25          7.80\n",
       "...                 ...            ...           ...\n",
       "800407              NaN          24.23         83.50\n",
       "800408              NaN           4.40         19.78\n",
       "800409              NaN           8.78         38.45\n",
       "800410              NaN           6.50         29.77\n",
       "800411              NaN          10.88         51.90\n",
       "\n",
       "[800412 rows x 3 columns]"
      ]
     },
     "execution_count": 41,
     "metadata": {},
     "output_type": "execute_result"
    }
   ],
   "source": [
    "df = pd.read_csv('nyc_taxi_2020-07.csv',\n",
    "                usecols=['passenger_count', 'trip_distance', 'total_amount'])\n",
    "df"
   ]
  },
  {
   "cell_type": "code",
   "execution_count": 46,
   "metadata": {},
   "outputs": [
    {
     "data": {
      "text/html": [
       "<div>\n",
       "<style scoped>\n",
       "    .dataframe tbody tr th:only-of-type {\n",
       "        vertical-align: middle;\n",
       "    }\n",
       "\n",
       "    .dataframe tbody tr th {\n",
       "        vertical-align: top;\n",
       "    }\n",
       "\n",
       "    .dataframe thead th {\n",
       "        text-align: right;\n",
       "    }\n",
       "</style>\n",
       "<table border=\"1\" class=\"dataframe\">\n",
       "  <thead>\n",
       "    <tr style=\"text-align: right;\">\n",
       "      <th></th>\n",
       "      <th>passenger_count</th>\n",
       "      <th>trip_distance</th>\n",
       "      <th>total_amount</th>\n",
       "    </tr>\n",
       "  </thead>\n",
       "  <tbody>\n",
       "    <tr>\n",
       "      <th>31607</th>\n",
       "      <td>1.0</td>\n",
       "      <td>1.43</td>\n",
       "      <td>1010.8</td>\n",
       "    </tr>\n",
       "    <tr>\n",
       "      <th>420380</th>\n",
       "      <td>1.0</td>\n",
       "      <td>0.00</td>\n",
       "      <td>1995.0</td>\n",
       "    </tr>\n",
       "  </tbody>\n",
       "</table>\n",
       "</div>"
      ],
      "text/plain": [
       "        passenger_count  trip_distance  total_amount\n",
       "31607               1.0           1.43        1010.8\n",
       "420380              1.0           0.00        1995.0"
      ]
     },
     "execution_count": 46,
     "metadata": {},
     "output_type": "execute_result"
    }
   ],
   "source": [
    "# Find those rows where total_amount is > $1000, and the trip_distance is less than 10 miles.\n",
    "\n",
    "(\n",
    "    df\n",
    "    .loc[\n",
    "        ((df['total_amount'] > 1000) & (df['trip_distance'] < 10))\n",
    "    ]\n",
    ")"
   ]
  },
  {
   "cell_type": "code",
   "execution_count": 49,
   "metadata": {},
   "outputs": [
    {
     "data": {
      "text/plain": [
       "<Axes: xlabel='passenger_count'>"
      ]
     },
     "execution_count": 49,
     "metadata": {},
     "output_type": "execute_result"
    },
    {
     "data": {
      "image/png": "[encoded data removed]",
      "text/plain": [
       "<Figure size 640x480 with 1 Axes>"
      ]
     },
     "metadata": {},
     "output_type": "display_data"
    }
   ],
   "source": [
    "(\n",
    "    df\n",
    "    .loc[\n",
    "        ((df['total_amount'] > 100) & (df['trip_distance'] < 10))\n",
    "    ]\n",
    "    .groupby('passenger_count')['trip_distance'].count()\n",
    "    .plot.bar()\n",
    ")"
   ]
  },
  {
   "cell_type": "markdown",
   "metadata": {},
   "source": [
    "# `.loc`\n",
    "\n",
    "It can take, for its row and column selectors, a number of types of values:\n",
    "\n",
    "- A single string, indicating a row/column name\n",
    "- A list of strings, indicating multiple row/column names\n",
    "- A boolean series, indicating which rows you want\n",
    "- A function call, which takes the data frame as an argument, and which returns a boolean series. Usually, this is done with `lambda`"
   ]
  },
  {
   "cell_type": "code",
   "execution_count": 51,
   "metadata": {},
   "outputs": [
    {
     "name": "stdout",
     "output_type": "stream",
     "text": [
      "Now running\n"
     ]
    },
    {
     "data": {
      "text/html": [
       "<div>\n",
       "<style scoped>\n",
       "    .dataframe tbody tr th:only-of-type {\n",
       "        vertical-align: middle;\n",
       "    }\n",
       "\n",
       "    .dataframe tbody tr th {\n",
       "        vertical-align: top;\n",
       "    }\n",
       "\n",
       "    .dataframe thead th {\n",
       "        text-align: right;\n",
       "    }\n",
       "</style>\n",
       "<table border=\"1\" class=\"dataframe\">\n",
       "  <thead>\n",
       "    <tr style=\"text-align: right;\">\n",
       "      <th></th>\n",
       "      <th>passenger_count</th>\n",
       "      <th>trip_distance</th>\n",
       "      <th>total_amount</th>\n",
       "    </tr>\n",
       "  </thead>\n",
       "  <tbody>\n",
       "    <tr>\n",
       "      <th>460</th>\n",
       "      <td>1.0</td>\n",
       "      <td>0.00</td>\n",
       "      <td>150.30</td>\n",
       "    </tr>\n",
       "    <tr>\n",
       "      <th>21629</th>\n",
       "      <td>1.0</td>\n",
       "      <td>0.00</td>\n",
       "      <td>254.55</td>\n",
       "    </tr>\n",
       "    <tr>\n",
       "      <th>29873</th>\n",
       "      <td>3.0</td>\n",
       "      <td>0.00</td>\n",
       "      <td>120.30</td>\n",
       "    </tr>\n",
       "    <tr>\n",
       "      <th>29970</th>\n",
       "      <td>1.0</td>\n",
       "      <td>0.00</td>\n",
       "      <td>155.30</td>\n",
       "    </tr>\n",
       "    <tr>\n",
       "      <th>31607</th>\n",
       "      <td>1.0</td>\n",
       "      <td>1.43</td>\n",
       "      <td>1010.80</td>\n",
       "    </tr>\n",
       "    <tr>\n",
       "      <th>...</th>\n",
       "      <td>...</td>\n",
       "      <td>...</td>\n",
       "      <td>...</td>\n",
       "    </tr>\n",
       "    <tr>\n",
       "      <th>762171</th>\n",
       "      <td>NaN</td>\n",
       "      <td>0.00</td>\n",
       "      <td>113.91</td>\n",
       "    </tr>\n",
       "    <tr>\n",
       "      <th>771331</th>\n",
       "      <td>NaN</td>\n",
       "      <td>5.53</td>\n",
       "      <td>101.91</td>\n",
       "    </tr>\n",
       "    <tr>\n",
       "      <th>776702</th>\n",
       "      <td>NaN</td>\n",
       "      <td>0.00</td>\n",
       "      <td>129.00</td>\n",
       "    </tr>\n",
       "    <tr>\n",
       "      <th>786867</th>\n",
       "      <td>NaN</td>\n",
       "      <td>0.00</td>\n",
       "      <td>119.30</td>\n",
       "    </tr>\n",
       "    <tr>\n",
       "      <th>793999</th>\n",
       "      <td>NaN</td>\n",
       "      <td>0.00</td>\n",
       "      <td>126.12</td>\n",
       "    </tr>\n",
       "  </tbody>\n",
       "</table>\n",
       "<p>182 rows × 3 columns</p>\n",
       "</div>"
      ],
      "text/plain": [
       "        passenger_count  trip_distance  total_amount\n",
       "460                 1.0           0.00        150.30\n",
       "21629               1.0           0.00        254.55\n",
       "29873               3.0           0.00        120.30\n",
       "29970               1.0           0.00        155.30\n",
       "31607               1.0           1.43       1010.80\n",
       "...                 ...            ...           ...\n",
       "762171              NaN           0.00        113.91\n",
       "771331              NaN           5.53        101.91\n",
       "776702              NaN           0.00        129.00\n",
       "786867              NaN           0.00        119.30\n",
       "793999              NaN           0.00        126.12\n",
       "\n",
       "[182 rows x 3 columns]"
      ]
     },
     "execution_count": 51,
     "metadata": {},
     "output_type": "execute_result"
    }
   ],
   "source": [
    "# let's look at our existing example\n",
    "\n",
    "def find_expensive_and_short_rides(df_):   # parameter is df_, meaning -- data frame, but not the global one, and it's temporary anyway\n",
    "    return ((df['total_amount'] > 100) & (df['trip_distance'] < 10))\n",
    "\n",
    "(\n",
    "    df\n",
    "    .loc[\n",
    "        find_expensive_and_short_rides    # I pass the function object; .loc executes it on my behalf\n",
    "    ]\n",
    ")"
   ]
  },
  {
   "cell_type": "markdown",
   "metadata": {},
   "source": [
    "# What is `lambda`?\n",
    "\n",
    "When we define a function in Python, we're really doing two things:\n",
    "\n",
    "1. We're creating a function object\n",
    "2. We're assigning that function object to a variable\n",
    "\n",
    "A `lambda` expression does the first, but not the second. It creates an anonymous function.\n",
    "\n",
    "`lambda` expressions are commonly used in languages where you can pass functions as arguments to other functions. If the argument is a one-off function that you don't plan to reuse, then you can use `lambda` instead, defining an inline, anonymous function rather than creating a named one and then passing the name.\n",
    "\n",
    "The syntax for `lambda` is:\n",
    "\n",
    "    lambda x: x*2\n",
    "\n",
    "The rules for `lambda` in Python are fairly strict:\n",
    "1. No statements, only expressions.\n",
    "2. Actually, only one expression.\n",
    "3. No use of `return`; the value of the expression is the result.\n",
    "4. Only one line of code, as well."
   ]
  },
  {
   "cell_type": "code",
   "execution_count": 56,
   "metadata": {},
   "outputs": [
    {
     "name": "stdout",
     "output_type": "stream",
     "text": [
      "543 µs ± 12.5 µs per loop (mean ± std. dev. of 7 runs, 1,000 loops each)\n"
     ]
    }
   ],
   "source": [
    "%%timeit\n",
    "\n",
    "(\n",
    "    df\n",
    "    .loc[\n",
    "        lambda df_: ((df_['total_amount'] > 100) & (df_['trip_distance'] < 10))\n",
    "    ]\n",
    ")"
   ]
  },
  {
   "cell_type": "code",
   "execution_count": 55,
   "metadata": {},
   "outputs": [
    {
     "name": "stdout",
     "output_type": "stream",
     "text": [
      "412 µs ± 8.56 µs per loop (mean ± std. dev. of 7 runs, 1,000 loops each)\n"
     ]
    }
   ],
   "source": [
    "%%timeit\n",
    "\n",
    "# let's rewrite what we just did\n",
    "\n",
    "(\n",
    "    df\n",
    "    .loc[   # keep rows in which total_amount > 100\n",
    "        lambda df_: (df_['total_amount'] > 100)\n",
    "    ]\n",
    "    .loc[   # keep rows in which trip_distance < 10\n",
    "        lambda df_: (df_['trip_distance'] < 10)\n",
    "    ]\n",
    "    .groupby('passenger_count')['trip_distance'].count()\n",
    "    .plot.bar()\n",
    "    \n",
    ")"
   ]
  },
  {
   "cell_type": "code",
   "execution_count": 57,
   "metadata": {},
   "outputs": [
    {
     "data": {
      "text/plain": [
       "<Axes: xlabel='passenger_count'>"
      ]
     },
     "execution_count": 57,
     "metadata": {},
     "output_type": "execute_result"
    },
    {
     "data": {
      "image/png": "[encoded data removed]",
      "text/plain": [
       "<Figure size 640x480 with 1 Axes>"
      ]
     },
     "metadata": {},
     "output_type": "display_data"
    }
   ],
   "source": [
    "# let's rewrite what we just did\n",
    "\n",
    "(\n",
    "    df\n",
    "    .loc[   # keep rows in which total_amount > 100\n",
    "        lambda df_: (df_['total_amount'] > 100)\n",
    "    ]\n",
    "    .loc[   # keep rows in which trip_distance < 10\n",
    "        lambda df_: (df_['trip_distance'] < 10)\n",
    "    ]\n",
    "    .groupby('passenger_count')['trip_distance'].count()\n",
    "    .plot.bar()\n",
    ")"
   ]
  },
  {
   "cell_type": "markdown",
   "metadata": {},
   "source": [
    "# Exercise: More taxi fun!\n",
    "\n",
    "1. I'll assume that you have the taxi data in a data frame; we'll only need `passenger_count`, `payment_type`, `total_amount`, and `trip_distance`.\n",
    "2. For trips that had more than 1 passenger and had a total_amount > 500, show the mean trip_distance for each payment type.\n",
    "3. How many trips had a total_amount <= 0? Show a bar plot indicating how many such trips had each payment type."
   ]
  },
  {
   "cell_type": "code",
   "execution_count": 58,
   "metadata": {},
   "outputs": [
    {
     "data": {
      "text/plain": [
       "Index(['passenger_count', 'trip_distance', 'total_amount'], dtype='object')"
      ]
     },
     "execution_count": 58,
     "metadata": {},
     "output_type": "execute_result"
    }
   ],
   "source": [
    "df.columns"
   ]
  },
  {
   "cell_type": "code",
   "execution_count": 60,
   "metadata": {},
   "outputs": [
    {
     "name": "stdout",
     "output_type": "stream",
     "text": [
      "VendorID,tpep_pickup_datetime,tpep_dropoff_datetime,passenger_count,trip_distance,RatecodeID,store_and_fwd_flag,PULocationID,DOLocationID,payment_type,fare_amount,extra,mta_tax,tip_amount,tolls_amount,improvement_surcharge,total_amount,congestion_surcharge\n",
      "1,2020-07-01 00:25:32,2020-07-01 00:33:39,1,1.50,1,N,238,75,2,8,0.5,0.5,0,0,0.3,9.3,0\n",
      "1,2020-07-01 00:03:19,2020-07-01 00:25:43,1,9.50,1,N,138,216,1,26.5,0.5,0.5,0,0,0.3,27.8,0\n",
      "2,2020-07-01 00:15:11,2020-07-01 00:29:24,1,5.85,1,N,230,88,2,18.5,0.5,0.5,0,0,0.3,22.3,2.5\n",
      "2,2020-07-01 00:30:49,2020-07-01 00:38:26,1,1.90,1,N,88,232,1,8,0.5,0.5,2.36,0,0.3,14.16,2.5\n",
      "2,2020-07-01 00:31:26,2020-07-01 00:38:02,1,1.25,1,N,37,17,2,6.5,0.5,0.5,0,0,0.3,7.8,0\n",
      "1,2020-07-01 00:09:00,2020-07-01 00:34:39,1,9.70,1,N,140,61,1,30,3,0.5,0,0,0.3,33.8,2.5\n",
      "2,2020-07-01 00:44:08,2020-07-01 00:58:12,1,5.27,1,N,137,260,1,16.5,0.5,0.5,6.09,0,0.3,26.39,2.5\n",
      "2,2020-07-01 00:49:20,2020-07-01 00:56:44,1,1.32,1,N,166,41,2,7.5,0.5,0.5,0,0,0.3,8.8,0\n",
      "2,2020-07-01 00:21:59,2020-07-01 00:25:12,1,.73,1,N,239,142,1,5,0.5,0.5,1.32,0,0.3,10.12,2.5\n"
     ]
    }
   ],
   "source": [
    "filename = 'nyc_taxi_2020-07.csv'\n",
    "\n",
    "!head $filename"
   ]
  },
  {
   "cell_type": "code",
   "execution_count": 69,
   "metadata": {},
   "outputs": [
    {
     "data": {
      "text/plain": [
       "payment_type\n",
       "1.0    76.0\n",
       "2.0     0.0\n",
       "Name: trip_distance, dtype: float64"
      ]
     },
     "execution_count": 69,
     "metadata": {},
     "output_type": "execute_result"
    }
   ],
   "source": [
    "# I'll assume that you have the taxi data in a data frame; we'll only need passenger_count, payment_type, total_amount, and trip_distance.\n",
    "# For trips that had more than 1 passenger and had a total_amount > 500, show the mean trip_distance for each payment type.\n",
    "(\n",
    "    pd\n",
    "    .read_csv(filename, \n",
    "              usecols=['passenger_count', 'payment_type',\n",
    "                          'total_amount', 'trip_distance'], \n",
    "              engine='pyarrow')\n",
    "    .loc[lambda df_: df_['passenger_count'] > 1]\n",
    "    .loc[lambda df_: df_['total_amount'] > 500]\n",
    "    .groupby('payment_type')['trip_distance'].mean()\n",
    "    \n",
    ")\n"
   ]
  },
  {
   "cell_type": "code",
   "execution_count": null,
   "metadata": {},
   "outputs": [],
   "source": []
  },
  {
   "cell_type": "code",
   "execution_count": 70,
   "metadata": {},
   "outputs": [
    {
     "data": {
      "text/plain": [
       "<Axes: xlabel='payment_type'>"
      ]
     },
     "execution_count": 70,
     "metadata": {},
     "output_type": "execute_result"
    },
    {
     "data": {
      "image/png": "[encoded data removed]",
      "text/plain": [
       "<Figure size 640x480 with 1 Axes>"
      ]
     },
     "metadata": {},
     "output_type": "display_data"
    }
   ],
   "source": [
    "# How many trips had a total_amount <= 0? Show a bar plot indicating how many such trips had each payment type.\n",
    "\n",
    "(\n",
    "    pd\n",
    "    .read_csv(filename, \n",
    "              usecols=['passenger_count', 'payment_type',\n",
    "                          'total_amount', 'trip_distance'], \n",
    "              engine='pyarrow')\n",
    "    .loc[lambda df_: df_['total_amount'] <= 0]\n",
    "    .groupby('payment_type')['trip_distance'].count()\n",
    "    .plot.bar()\n",
    ")"
   ]
  },
  {
   "cell_type": "code",
   "execution_count": 71,
   "metadata": {},
   "outputs": [],
   "source": [
    "# what if I want to chart the number of dollars / mile for each taxi ride,\n",
    "# and then create a histogram for that?\n",
    "\n",
    "df = (\n",
    "    pd\n",
    "    .read_csv(filename, \n",
    "              usecols=['passenger_count', 'payment_type',\n",
    "                          'total_amount', 'trip_distance'], \n",
    "              engine='pyarrow')\n",
    ")"
   ]
  },
  {
   "cell_type": "code",
   "execution_count": 77,
   "metadata": {},
   "outputs": [
    {
     "data": {
      "text/plain": [
       "0         6.200000\n",
       "1         2.926316\n",
       "2         3.811966\n",
       "3         7.452632\n",
       "4         6.240000\n",
       "            ...   \n",
       "800407    3.446141\n",
       "800408    4.495455\n",
       "800409    4.379271\n",
       "800410    4.580000\n",
       "800411    4.770221\n",
       "Length: 800412, dtype: float64"
      ]
     },
     "execution_count": 77,
     "metadata": {},
     "output_type": "execute_result"
    }
   ],
   "source": [
    "(df['total_amount'] / df['trip_distance'])"
   ]
  },
  {
   "cell_type": "markdown",
   "metadata": {},
   "source": [
    "# The `assign` method\n",
    "\n",
    "The `assign` method allows us to create a new data frame, based on an existing one, with one or more columns added. `assign` takes keyword arguments, where the names of the arguments are the names of the columns to be added and the values are either existing values or `lambda` expressions whose results will be put into the column.\n",
    "\n",
    "The order of keyword arguments to `assign` is important; they are evaluated in order. This means that if you have multiple kwargs on `assign`, the second can reference the first, and the third can reference the second."
   ]
  },
  {
   "cell_type": "code",
   "execution_count": 78,
   "metadata": {},
   "outputs": [
    {
     "data": {
      "text/html": [
       "<div>\n",
       "<style scoped>\n",
       "    .dataframe tbody tr th:only-of-type {\n",
       "        vertical-align: middle;\n",
       "    }\n",
       "\n",
       "    .dataframe tbody tr th {\n",
       "        vertical-align: top;\n",
       "    }\n",
       "\n",
       "    .dataframe thead th {\n",
       "        text-align: right;\n",
       "    }\n",
       "</style>\n",
       "<table border=\"1\" class=\"dataframe\">\n",
       "  <thead>\n",
       "    <tr style=\"text-align: right;\">\n",
       "      <th></th>\n",
       "      <th>passenger_count</th>\n",
       "      <th>payment_type</th>\n",
       "      <th>total_amount</th>\n",
       "      <th>trip_distance</th>\n",
       "      <th>newcol</th>\n",
       "    </tr>\n",
       "  </thead>\n",
       "  <tbody>\n",
       "    <tr>\n",
       "      <th>0</th>\n",
       "      <td>1.0</td>\n",
       "      <td>2.0</td>\n",
       "      <td>9.30</td>\n",
       "      <td>1.50</td>\n",
       "      <td>5</td>\n",
       "    </tr>\n",
       "    <tr>\n",
       "      <th>1</th>\n",
       "      <td>1.0</td>\n",
       "      <td>1.0</td>\n",
       "      <td>27.80</td>\n",
       "      <td>9.50</td>\n",
       "      <td>5</td>\n",
       "    </tr>\n",
       "    <tr>\n",
       "      <th>2</th>\n",
       "      <td>1.0</td>\n",
       "      <td>2.0</td>\n",
       "      <td>22.30</td>\n",
       "      <td>5.85</td>\n",
       "      <td>5</td>\n",
       "    </tr>\n",
       "    <tr>\n",
       "      <th>3</th>\n",
       "      <td>1.0</td>\n",
       "      <td>1.0</td>\n",
       "      <td>14.16</td>\n",
       "      <td>1.90</td>\n",
       "      <td>5</td>\n",
       "    </tr>\n",
       "    <tr>\n",
       "      <th>4</th>\n",
       "      <td>1.0</td>\n",
       "      <td>2.0</td>\n",
       "      <td>7.80</td>\n",
       "      <td>1.25</td>\n",
       "      <td>5</td>\n",
       "    </tr>\n",
       "    <tr>\n",
       "      <th>...</th>\n",
       "      <td>...</td>\n",
       "      <td>...</td>\n",
       "      <td>...</td>\n",
       "      <td>...</td>\n",
       "      <td>...</td>\n",
       "    </tr>\n",
       "    <tr>\n",
       "      <th>800407</th>\n",
       "      <td>NaN</td>\n",
       "      <td>NaN</td>\n",
       "      <td>83.50</td>\n",
       "      <td>24.23</td>\n",
       "      <td>5</td>\n",
       "    </tr>\n",
       "    <tr>\n",
       "      <th>800408</th>\n",
       "      <td>NaN</td>\n",
       "      <td>NaN</td>\n",
       "      <td>19.78</td>\n",
       "      <td>4.40</td>\n",
       "      <td>5</td>\n",
       "    </tr>\n",
       "    <tr>\n",
       "      <th>800409</th>\n",
       "      <td>NaN</td>\n",
       "      <td>NaN</td>\n",
       "      <td>38.45</td>\n",
       "      <td>8.78</td>\n",
       "      <td>5</td>\n",
       "    </tr>\n",
       "    <tr>\n",
       "      <th>800410</th>\n",
       "      <td>NaN</td>\n",
       "      <td>NaN</td>\n",
       "      <td>29.77</td>\n",
       "      <td>6.50</td>\n",
       "      <td>5</td>\n",
       "    </tr>\n",
       "    <tr>\n",
       "      <th>800411</th>\n",
       "      <td>NaN</td>\n",
       "      <td>NaN</td>\n",
       "      <td>51.90</td>\n",
       "      <td>10.88</td>\n",
       "      <td>5</td>\n",
       "    </tr>\n",
       "  </tbody>\n",
       "</table>\n",
       "<p>800412 rows × 5 columns</p>\n",
       "</div>"
      ],
      "text/plain": [
       "        passenger_count  payment_type  total_amount  trip_distance  newcol\n",
       "0                   1.0           2.0          9.30           1.50       5\n",
       "1                   1.0           1.0         27.80           9.50       5\n",
       "2                   1.0           2.0         22.30           5.85       5\n",
       "3                   1.0           1.0         14.16           1.90       5\n",
       "4                   1.0           2.0          7.80           1.25       5\n",
       "...                 ...           ...           ...            ...     ...\n",
       "800407              NaN           NaN         83.50          24.23       5\n",
       "800408              NaN           NaN         19.78           4.40       5\n",
       "800409              NaN           NaN         38.45           8.78       5\n",
       "800410              NaN           NaN         29.77           6.50       5\n",
       "800411              NaN           NaN         51.90          10.88       5\n",
       "\n",
       "[800412 rows x 5 columns]"
      ]
     },
     "execution_count": 78,
     "metadata": {},
     "output_type": "execute_result"
    }
   ],
   "source": [
    "# simple adding of a column\n",
    "\n",
    "(\n",
    "    pd\n",
    "    .read_csv(filename, \n",
    "              usecols=['passenger_count', 'payment_type',\n",
    "                          'total_amount', 'trip_distance'], \n",
    "              engine='pyarrow')\n",
    "    .assign(newcol=5)\n",
    ")"
   ]
  },
  {
   "cell_type": "code",
   "execution_count": 85,
   "metadata": {},
   "outputs": [
    {
     "data": {
      "text/html": [
       "<div>\n",
       "<style scoped>\n",
       "    .dataframe tbody tr th:only-of-type {\n",
       "        vertical-align: middle;\n",
       "    }\n",
       "\n",
       "    .dataframe tbody tr th {\n",
       "        vertical-align: top;\n",
       "    }\n",
       "\n",
       "    .dataframe thead th {\n",
       "        text-align: right;\n",
       "    }\n",
       "</style>\n",
       "<table border=\"1\" class=\"dataframe\">\n",
       "  <thead>\n",
       "    <tr style=\"text-align: right;\">\n",
       "      <th></th>\n",
       "      <th>passenger_count</th>\n",
       "      <th>payment_type</th>\n",
       "      <th>total_amount</th>\n",
       "      <th>trip_distance</th>\n",
       "      <th>dollars_per_mile</th>\n",
       "    </tr>\n",
       "  </thead>\n",
       "  <tbody>\n",
       "    <tr>\n",
       "      <th>423168</th>\n",
       "      <td>1.0</td>\n",
       "      <td>1.0</td>\n",
       "      <td>168.96</td>\n",
       "      <td>0.01</td>\n",
       "      <td>16896.0</td>\n",
       "    </tr>\n",
       "    <tr>\n",
       "      <th>236945</th>\n",
       "      <td>2.0</td>\n",
       "      <td>1.0</td>\n",
       "      <td>109.80</td>\n",
       "      <td>0.01</td>\n",
       "      <td>10980.0</td>\n",
       "    </tr>\n",
       "    <tr>\n",
       "      <th>332602</th>\n",
       "      <td>1.0</td>\n",
       "      <td>1.0</td>\n",
       "      <td>100.30</td>\n",
       "      <td>0.01</td>\n",
       "      <td>10030.0</td>\n",
       "    </tr>\n",
       "    <tr>\n",
       "      <th>771468</th>\n",
       "      <td>NaN</td>\n",
       "      <td>NaN</td>\n",
       "      <td>86.00</td>\n",
       "      <td>0.01</td>\n",
       "      <td>8600.0</td>\n",
       "    </tr>\n",
       "    <tr>\n",
       "      <th>440397</th>\n",
       "      <td>1.0</td>\n",
       "      <td>1.0</td>\n",
       "      <td>80.80</td>\n",
       "      <td>0.01</td>\n",
       "      <td>8080.0</td>\n",
       "    </tr>\n",
       "    <tr>\n",
       "      <th>16648</th>\n",
       "      <td>1.0</td>\n",
       "      <td>1.0</td>\n",
       "      <td>79.10</td>\n",
       "      <td>0.01</td>\n",
       "      <td>7910.0</td>\n",
       "    </tr>\n",
       "    <tr>\n",
       "      <th>713082</th>\n",
       "      <td>2.0</td>\n",
       "      <td>1.0</td>\n",
       "      <td>78.36</td>\n",
       "      <td>0.01</td>\n",
       "      <td>7836.0</td>\n",
       "    </tr>\n",
       "    <tr>\n",
       "      <th>725877</th>\n",
       "      <td>1.0</td>\n",
       "      <td>1.0</td>\n",
       "      <td>77.80</td>\n",
       "      <td>0.01</td>\n",
       "      <td>7780.0</td>\n",
       "    </tr>\n",
       "    <tr>\n",
       "      <th>581769</th>\n",
       "      <td>6.0</td>\n",
       "      <td>1.0</td>\n",
       "      <td>77.76</td>\n",
       "      <td>0.01</td>\n",
       "      <td>7776.0</td>\n",
       "    </tr>\n",
       "    <tr>\n",
       "      <th>262710</th>\n",
       "      <td>1.0</td>\n",
       "      <td>1.0</td>\n",
       "      <td>76.10</td>\n",
       "      <td>0.01</td>\n",
       "      <td>7610.0</td>\n",
       "    </tr>\n",
       "    <tr>\n",
       "      <th>787710</th>\n",
       "      <td>NaN</td>\n",
       "      <td>NaN</td>\n",
       "      <td>76.00</td>\n",
       "      <td>0.01</td>\n",
       "      <td>7600.0</td>\n",
       "    </tr>\n",
       "    <tr>\n",
       "      <th>228411</th>\n",
       "      <td>3.0</td>\n",
       "      <td>1.0</td>\n",
       "      <td>73.70</td>\n",
       "      <td>0.01</td>\n",
       "      <td>7370.0</td>\n",
       "    </tr>\n",
       "    <tr>\n",
       "      <th>66859</th>\n",
       "      <td>1.0</td>\n",
       "      <td>1.0</td>\n",
       "      <td>71.89</td>\n",
       "      <td>0.01</td>\n",
       "      <td>7189.0</td>\n",
       "    </tr>\n",
       "    <tr>\n",
       "      <th>288315</th>\n",
       "      <td>2.0</td>\n",
       "      <td>1.0</td>\n",
       "      <td>70.92</td>\n",
       "      <td>0.01</td>\n",
       "      <td>7092.0</td>\n",
       "    </tr>\n",
       "    <tr>\n",
       "      <th>787686</th>\n",
       "      <td>NaN</td>\n",
       "      <td>NaN</td>\n",
       "      <td>70.80</td>\n",
       "      <td>0.01</td>\n",
       "      <td>7080.0</td>\n",
       "    </tr>\n",
       "    <tr>\n",
       "      <th>601520</th>\n",
       "      <td>1.0</td>\n",
       "      <td>1.0</td>\n",
       "      <td>70.80</td>\n",
       "      <td>0.01</td>\n",
       "      <td>7080.0</td>\n",
       "    </tr>\n",
       "    <tr>\n",
       "      <th>309465</th>\n",
       "      <td>1.0</td>\n",
       "      <td>1.0</td>\n",
       "      <td>69.12</td>\n",
       "      <td>0.01</td>\n",
       "      <td>6912.0</td>\n",
       "    </tr>\n",
       "    <tr>\n",
       "      <th>746572</th>\n",
       "      <td>NaN</td>\n",
       "      <td>NaN</td>\n",
       "      <td>68.10</td>\n",
       "      <td>0.01</td>\n",
       "      <td>6810.0</td>\n",
       "    </tr>\n",
       "    <tr>\n",
       "      <th>552464</th>\n",
       "      <td>1.0</td>\n",
       "      <td>1.0</td>\n",
       "      <td>66.36</td>\n",
       "      <td>0.01</td>\n",
       "      <td>6636.0</td>\n",
       "    </tr>\n",
       "    <tr>\n",
       "      <th>788595</th>\n",
       "      <td>NaN</td>\n",
       "      <td>NaN</td>\n",
       "      <td>65.40</td>\n",
       "      <td>0.01</td>\n",
       "      <td>6540.0</td>\n",
       "    </tr>\n",
       "  </tbody>\n",
       "</table>\n",
       "</div>"
      ],
      "text/plain": [
       "        passenger_count  payment_type  total_amount  trip_distance  \\\n",
       "423168              1.0           1.0        168.96           0.01   \n",
       "236945              2.0           1.0        109.80           0.01   \n",
       "332602              1.0           1.0        100.30           0.01   \n",
       "771468              NaN           NaN         86.00           0.01   \n",
       "440397              1.0           1.0         80.80           0.01   \n",
       "16648               1.0           1.0         79.10           0.01   \n",
       "713082              2.0           1.0         78.36           0.01   \n",
       "725877              1.0           1.0         77.80           0.01   \n",
       "581769              6.0           1.0         77.76           0.01   \n",
       "262710              1.0           1.0         76.10           0.01   \n",
       "787710              NaN           NaN         76.00           0.01   \n",
       "228411              3.0           1.0         73.70           0.01   \n",
       "66859               1.0           1.0         71.89           0.01   \n",
       "288315              2.0           1.0         70.92           0.01   \n",
       "787686              NaN           NaN         70.80           0.01   \n",
       "601520              1.0           1.0         70.80           0.01   \n",
       "309465              1.0           1.0         69.12           0.01   \n",
       "746572              NaN           NaN         68.10           0.01   \n",
       "552464              1.0           1.0         66.36           0.01   \n",
       "788595              NaN           NaN         65.40           0.01   \n",
       "\n",
       "        dollars_per_mile  \n",
       "423168           16896.0  \n",
       "236945           10980.0  \n",
       "332602           10030.0  \n",
       "771468            8600.0  \n",
       "440397            8080.0  \n",
       "16648             7910.0  \n",
       "713082            7836.0  \n",
       "725877            7780.0  \n",
       "581769            7776.0  \n",
       "262710            7610.0  \n",
       "787710            7600.0  \n",
       "228411            7370.0  \n",
       "66859             7189.0  \n",
       "288315            7092.0  \n",
       "787686            7080.0  \n",
       "601520            7080.0  \n",
       "309465            6912.0  \n",
       "746572            6810.0  \n",
       "552464            6636.0  \n",
       "788595            6540.0  "
      ]
     },
     "execution_count": 85,
     "metadata": {},
     "output_type": "execute_result"
    }
   ],
   "source": [
    "# adding a column with lambda\n",
    "\n",
    "(\n",
    "    pd\n",
    "    .read_csv(filename, \n",
    "              usecols=['passenger_count', 'payment_type',\n",
    "                          'total_amount', 'trip_distance'], \n",
    "              engine='pyarrow')\n",
    "    .loc[lambda df_: df['trip_distance'] > 0]   # keep only rows where distance > 0\n",
    "    .assign(dollars_per_mile = lambda df_: df_['total_amount'] / df_['trip_distance'])   # add a new column, dollars/mile\n",
    "    .sort_values('dollars_per_mile', ascending=False)   # sort the rows by dollars/mile\n",
    "    .head(5)  # find the rows with the highest dollars/mile\n",
    ")"
   ]
  },
  {
   "cell_type": "code",
   "execution_count": 86,
   "metadata": {},
   "outputs": [
    {
     "data": {
      "text/html": [
       "<div>\n",
       "<style scoped>\n",
       "    .dataframe tbody tr th:only-of-type {\n",
       "        vertical-align: middle;\n",
       "    }\n",
       "\n",
       "    .dataframe tbody tr th {\n",
       "        vertical-align: top;\n",
       "    }\n",
       "\n",
       "    .dataframe thead th {\n",
       "        text-align: right;\n",
       "    }\n",
       "</style>\n",
       "<table border=\"1\" class=\"dataframe\">\n",
       "  <thead>\n",
       "    <tr style=\"text-align: right;\">\n",
       "      <th></th>\n",
       "      <th>passenger_count</th>\n",
       "      <th>payment_type</th>\n",
       "      <th>total_amount</th>\n",
       "      <th>trip_distance</th>\n",
       "      <th>trip_distance_km</th>\n",
       "      <th>dollars_per_km</th>\n",
       "    </tr>\n",
       "  </thead>\n",
       "  <tbody>\n",
       "    <tr>\n",
       "      <th>423168</th>\n",
       "      <td>1.0</td>\n",
       "      <td>1.0</td>\n",
       "      <td>168.96</td>\n",
       "      <td>0.01</td>\n",
       "      <td>0.01609</td>\n",
       "      <td>10500.932256</td>\n",
       "    </tr>\n",
       "    <tr>\n",
       "      <th>236945</th>\n",
       "      <td>2.0</td>\n",
       "      <td>1.0</td>\n",
       "      <td>109.80</td>\n",
       "      <td>0.01</td>\n",
       "      <td>0.01609</td>\n",
       "      <td>6824.114357</td>\n",
       "    </tr>\n",
       "    <tr>\n",
       "      <th>332602</th>\n",
       "      <td>1.0</td>\n",
       "      <td>1.0</td>\n",
       "      <td>100.30</td>\n",
       "      <td>0.01</td>\n",
       "      <td>0.01609</td>\n",
       "      <td>6233.685519</td>\n",
       "    </tr>\n",
       "    <tr>\n",
       "      <th>771468</th>\n",
       "      <td>NaN</td>\n",
       "      <td>NaN</td>\n",
       "      <td>86.00</td>\n",
       "      <td>0.01</td>\n",
       "      <td>0.01609</td>\n",
       "      <td>5344.934742</td>\n",
       "    </tr>\n",
       "    <tr>\n",
       "      <th>440397</th>\n",
       "      <td>1.0</td>\n",
       "      <td>1.0</td>\n",
       "      <td>80.80</td>\n",
       "      <td>0.01</td>\n",
       "      <td>0.01609</td>\n",
       "      <td>5021.752641</td>\n",
       "    </tr>\n",
       "  </tbody>\n",
       "</table>\n",
       "</div>"
      ],
      "text/plain": [
       "        passenger_count  payment_type  total_amount  trip_distance  \\\n",
       "423168              1.0           1.0        168.96           0.01   \n",
       "236945              2.0           1.0        109.80           0.01   \n",
       "332602              1.0           1.0        100.30           0.01   \n",
       "771468              NaN           NaN         86.00           0.01   \n",
       "440397              1.0           1.0         80.80           0.01   \n",
       "\n",
       "        trip_distance_km  dollars_per_km  \n",
       "423168           0.01609    10500.932256  \n",
       "236945           0.01609     6824.114357  \n",
       "332602           0.01609     6233.685519  \n",
       "771468           0.01609     5344.934742  \n",
       "440397           0.01609     5021.752641  "
      ]
     },
     "execution_count": 86,
     "metadata": {},
     "output_type": "execute_result"
    }
   ],
   "source": [
    "# let's create trip_distance_km, and then calculate dollars_per_km\n",
    "\n",
    "(\n",
    "    pd\n",
    "    .read_csv(filename, \n",
    "              usecols=['passenger_count', 'payment_type',\n",
    "                          'total_amount', 'trip_distance'], \n",
    "              engine='pyarrow')\n",
    "    .loc[lambda df_: df_['trip_distance'] > 0]   # keep only rows where distance > 0\n",
    "    .assign(trip_distance_km = lambda df_: df_['trip_distance'] * 1.609,\n",
    "            dollars_per_km = lambda df_: df_['total_amount'] / df_['trip_distance_km'])   # add a new column, dollars/mile\n",
    "    .sort_values('dollars_per_km', ascending=False)   # sort the rows by dollars/mile\n",
    "    .head(5)  # find the rows with the highest dollars/mile\n",
    ")"
   ]
  },
  {
   "cell_type": "markdown",
   "metadata": {},
   "source": [
    "# Exercises: More taxi fun\n",
    "\n",
    "1. Read the taxi data into a data frame. We'll only need those same four columns (passenger_count, payment_type, total_amount, and trip_distance).\n",
    "2. Keep only those rows where the payment type was 1 or 2\n",
    "3. Create a column, `tip_percentage`, which is the percentage of the tip as part of `total_amount`.\n",
    "4. Show the mean `tip_percentage` for each value of `passenger_count`. Can we say that people tip more when there are more people in the taxi?"
   ]
  },
  {
   "cell_type": "code",
   "execution_count": 87,
   "metadata": {},
   "outputs": [
    {
     "ename": "SyntaxError",
     "evalue": "invalid syntax (3606163460.py, line 1)",
     "output_type": "error",
     "traceback": [
      "\u001b[0;36m  Cell \u001b[0;32mIn[87], line 1\u001b[0;36m\u001b[0m\n\u001b[0;31m    `isin`\u001b[0m\n\u001b[0m    ^\u001b[0m\n\u001b[0;31mSyntaxError\u001b[0m\u001b[0;31m:\u001b[0m invalid syntax\n"
     ]
    }
   ],
   "source": [
    "(\n",
    "    pd\n",
    "    .read_csv(filename, \n",
    "              usecols=['passenger_count', 'payment_type',\n",
    "                          'total_amount', 'trip_distance'], \n",
    "              engine='pyarrow')\n",
    "    .\n",
    ")"
   ]
  },
  {
   "cell_type": "code",
   "execution_count": null,
   "metadata": {},
   "outputs": [],
   "source": []
  }
 ],
 "metadata": {
  "kernelspec": {
   "display_name": "Python 3 (ipykernel)",
   "language": "python",
   "name": "python3"
  },
  "language_info": {
   "codemirror_mode": {
    "name": "ipython",
    "version": 3
   },
   "file_extension": ".py",
   "mimetype": "text/x-python",
   "name": "python",
   "nbconvert_exporter": "python",
   "pygments_lexer": "ipython3",
   "version": "3.12.1"
  }
 },
 "nbformat": 4,
 "nbformat_minor": 4
}
